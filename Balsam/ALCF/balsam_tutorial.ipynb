{
 "cells": [
  {
   "cell_type": "markdown",
   "id": "67fcd7bd",
   "metadata": {},
   "source": [
    "# Balsam Tutorial Setup\n",
    "----\n",
    "\n",
    "## Installation\n",
    "\n",
    "In a shell on Polaris, type:\n",
    "```bash\n",
    "source setup.sh --site ALCF\n",
    "```\n",
    "\n",
    "Follow the tutorial either by executing the scripts provided in the repo, or with the Jupyter notebook.\n",
    "\n",
    "### Scripts\n",
    "\n",
    "To execute the scripts, run them in order as we progress:\n",
    "\n",
    "```python \n",
    "python 0_application.py\n",
    "python 1_define_jobs.py\n",
    "python 2_submit_jobs.py\n",
    "```\n",
    "\n",
    "### Notebook\n",
    "\n",
    "Create an ssh tunnel:\n",
    "\n",
    "step 1: (From your local computer)\n",
    "```bash\n",
    "ssh -L 9900:localhost:9900 csimpson@polaris.alcf.anl.gov\n",
    "```\n",
    "\n",
    "step 2:\n",
    "```bash\n",
    "jupyter notebook --no-browser --port 9900\n",
    "```\n",
    "\n",
    "step 3: Open browser on local computer and go to http://localhost:9900/?token=xxxxx\n",
    "\n",
    "You will likely need to replace 9900 with a different number so as to not select the same port as another workshop participant running this demo.  You can choose any number between 9000 and 65535.\n"
   ]
  },
  {
   "cell_type": "markdown",
   "id": "6583bb31-34ff-40ad-89ad-247803e68b14",
   "metadata": {},
   "source": [
    "## Setup Balsam site\n",
    "\n",
    "In terminal on Polaris, log into balsam and create your site in a folder of your choosing:\n",
    "```bash\n",
    "balsam login\n",
    "balsam site init -n polaris_tutorial polaris_tutorial\n",
    "```\n",
    "\n",
    "Now start the site:\n",
    "```bash\n",
    "cd polaris_tutorial\n",
    "balsam site start\n",
    "cd ..\n",
    "```"
   ]
  },
  {
   "cell_type": "markdown",
   "id": "f419d0e8",
   "metadata": {},
   "source": [
    "## Balsam Command Line Commands\n",
    "\n",
    "Balsam has a command line interface.  Some common commands we will use during this tutorial:\n",
    "\n",
    "List your sites and their status:\n",
    "```bash\n",
    "balsam site ls\n",
    "```\n",
    "\n",
    "List the applications registered in your site:\n",
    "```bash\n",
    "balsam app ls\n",
    "```\n",
    "\n",
    "List the Jobs in your site and their statuses:\n",
    "```bash\n",
    "balsam job ls\n",
    "```\n",
    "\n",
    "List the Batch Jobs created by your site that are active:\n",
    "```bash\n",
    "balsam queue ls\n",
    "```\n",
    "\n",
    "List the Batch Jobs that have completed in your site:\n",
    "```bash\n",
    "balsam queue ls --history\n",
    "```"
   ]
  },
  {
   "cell_type": "markdown",
   "id": "b137b240",
   "metadata": {},
   "source": [
    "## Documentation\n",
    "\n",
    "The Balsam documentation can be viewed here: https://balsam.readthedocs.io/en/latest/"
   ]
  },
  {
   "cell_type": "markdown",
   "id": "0f10a0c3-b3e2-40bf-a3c9-5c30bc34f259",
   "metadata": {},
   "source": [
    "# Balsam LAMMPS Tutorial\n",
    "\n",
    "This tutorial will show you how to setup a Balsam site and run simulations via Balsam. For this tutorial we are using the application `LAMMPS`, a large scale classical molecular dynamics code that stands for Large-scale Atomic/Molecular Massively Parallel Simulator. \n",
    "\n",
    "## Create Balsam Application\n",
    "\n",
    "Save your site name to ```site_name```.\n",
    "Get the absolute path to the demo Balsam directory in ```demo_path```."
   ]
  },
  {
   "cell_type": "code",
   "execution_count": 1,
   "id": "693bdf3a",
   "metadata": {},
   "outputs": [
    {
     "data": {
      "text/plain": [
       "'/home/csimpson/polaris/DOE-HPC-workflow-training/Balsam/ALCF/lammps_envs.sh'"
      ]
     },
     "execution_count": 1,
     "metadata": {},
     "output_type": "execute_result"
    }
   ],
   "source": [
    "import os\n",
    "site_name = \"polaris_tutorial\"\n",
    "demo_path = os.getcwd()\n",
    "application_env = os.path.join(demo_path,\"lammps_envs.sh\")\n",
    "input_file_path = os.path.join(demo_path,\"lj_lammps_template.in\")\n",
    "application_env"
   ]
  },
  {
   "cell_type": "markdown",
   "id": "b028c153-e750-4b9e-ad3b-85c253318286",
   "metadata": {},
   "source": [
    "We can also create the application running this script at the command line:\n",
    "```shell\n",
    "python 0_application.py\n",
    "```"
   ]
  },
  {
   "cell_type": "code",
   "execution_count": 2,
   "id": "4e375a09-ae37-42de-8226-cc27714b1773",
   "metadata": {},
   "outputs": [],
   "source": [
    "from balsam.api import ApplicationDefinition\n",
    "\n",
    "class Lammps(ApplicationDefinition):\n",
    "\n",
    "    site = site_name\n",
    "            \n",
    "    def shell_preamble(self):\n",
    "        return 'source '+application_env\n",
    "\n",
    "\n",
    "    command_template = 'lmp -in {{input_file_path}} -k on g {{NGPUS}} -var tinit {{tinit}} -var lat_scale {{lat_scale}} -sf kk -pk kokkos neigh half neigh/qeq full newton on'\n",
    "    \n",
    "        \n",
    "    def postprocess(self):\n",
    "        print(\"starting postprocess\")\n",
    "        try:\n",
    "            with open(\"energy.dat\",\"r\") as f:\n",
    "                for line in f:\n",
    "                    pass\n",
    "                line_entries = line.split()\n",
    "                if line_entries[0] == \"1000\":\n",
    "                    self.job.data = {\"tfinal\":float(line_entries[3]), \"efinal\":float(line_entries[1])+float(line_entries[2]), \"Pfinal\":float(line_entries[4])}\n",
    "                    self.job.state = \"POSTPROCESSED\"\n",
    "                else:\n",
    "                    self.job.state = \"FAILED\"\n",
    "        except:\n",
    "            self.job.state = \"FAILED\"      \n",
    "\n",
    "Lammps.sync()"
   ]
  },
  {
   "cell_type": "markdown",
   "id": "0d9f7046-8b92-4200-a746-3fd25d9e57f9",
   "metadata": {
    "tags": []
   },
   "source": [
    "## Create Balsam Jobs\n",
    "\n",
    "Then we create the Balsam Jobs.  We can also do this via this script:\n",
    "\n",
    "```python\n",
    "python 1_define_jobs.py \n",
    "```"
   ]
  },
  {
   "cell_type": "code",
   "execution_count": 3,
   "id": "252d67c2-f77d-4dcf-88ff-2888e5ea7510",
   "metadata": {},
   "outputs": [],
   "source": [
    "from balsam.api import Job\n",
    "import numpy as np\n",
    "\n",
    "# Polaris has 4 GPUs per node\n",
    "n_gpus = 4 \n",
    "\n",
    "lat_scales = np.arange(0.15,0.85,0.05)\n",
    "\n",
    "jobs = [Job(app_id=\"Lammps\",\n",
    "            site_name=site_name,\n",
    "            workdir=f\"LJ/{n}\",\n",
    "            parameters={\"NGPUS\":n_gpus, \"tinit\":1.5, \n",
    "                        \"lat_scale\":lat_scale, \"input_file_path\":input_file_path},\n",
    "            num_nodes=1,\n",
    "            ranks_per_node=n_gpus,\n",
    "            gpus_per_rank=1,\n",
    "            threads_per_rank=8, #This sets OMP_NUM_THREADS\n",
    "            launch_params={\"cpu_bind\":\"depth\"},\n",
    "            tags={\"parameter_test\":\"density\"},\n",
    "        )\n",
    "        for n,lat_scale in enumerate(lat_scales)]\n",
    "\n",
    "jobs = Job.objects.bulk_create(jobs)"
   ]
  },
  {
   "cell_type": "markdown",
   "id": "360227ac-8530-4a1d-aa7d-357654a70dbe",
   "metadata": {},
   "source": [
    "## Submit Balsam Jobs\n",
    "\n",
    "Then we submit the Balsam jobs to the scheduler on the machine where we are running.  We can also do this by running this script.\n",
    "\n",
    "```shell\n",
    "python 2_submit_jobs.py\n",
    "```\n"
   ]
  },
  {
   "cell_type": "code",
   "execution_count": 4,
   "id": "9b290844-9dbd-4bdf-a88e-ec27e1d78727",
   "metadata": {},
   "outputs": [
    {
     "data": {
      "text/plain": [
       "BatchJob(num_nodes=2, wall_time_min=10, job_mode=mpi, optional_params={}, filter_tags={}, partitions=None, id=12143, site_id=507, scheduler_id=None, project=WALSforAll, queue=R476170, state=pending_submission, status_info={}, start_time=None, end_time=None)"
      ]
     },
     "execution_count": 4,
     "metadata": {},
     "output_type": "execute_result"
    }
   ],
   "source": [
    "from balsam.api import BatchJob, Site\n",
    "site = Site.objects.get(site_name)\n",
    "\n",
    "BatchJob.objects.create(\n",
    "    site_id=site.id,\n",
    "    num_nodes=2,\n",
    "    wall_time_min=10,\n",
    "    job_mode=\"mpi\",\n",
    "    project=\"WALSforAll\",\n",
    "    queue=\"R476170\",\n",
    ")"
   ]
  },
  {
   "cell_type": "markdown",
   "id": "3f3ea52d",
   "metadata": {},
   "source": [
    "## Plot Results\n",
    "\n",
    "We will now pull results from our jobs and plot them.  The input parameter was a measure of the density of the particle distribution we have simulated.  We will plot the final pressure and temperature vs. density.  Our application saved the final temperature and pressure in the data field of the jobs via the postprocess routine."
   ]
  },
  {
   "cell_type": "code",
   "execution_count": 5,
   "id": "78a6f529",
   "metadata": {
    "scrolled": true
   },
   "outputs": [
    {
     "data": {
      "image/png": "[encoded data removed]",
      "text/plain": [
       "<Figure size 640x480 with 1 Axes>"
      ]
     },
     "metadata": {},
     "output_type": "display_data"
    }
   ],
   "source": [
    "import matplotlib.pyplot as plt\n",
    "\n",
    "finished_jobs = Job.objects.filter(state=\"JOB_FINISHED\",site_id=site.id,tags={\"parameter_test\":\"density\"})\n",
    "\n",
    "if finished_jobs.count() > 0:\n",
    "    efinal = []\n",
    "    tfinal = []\n",
    "    density = []\n",
    "    Pfinal = []\n",
    "    tinit = []\n",
    "    for j in finished_jobs:\n",
    "\n",
    "        efinal.append(j.data[\"efinal\"])\n",
    "        tfinal.append(j.data[\"tfinal\"])\n",
    "        Pfinal.append(j.data[\"Pfinal\"])\n",
    "        density.append(j.get_parameters()[\"lat_scale\"])\n",
    "        tinit.append(j.get_parameters()[\"tinit\"])\n",
    "\n",
    "    plt.plot(density,tfinal,'o',label=\"Temperature\")\n",
    "    plt.plot(density,Pfinal,'s',label=\"Pressure\")\n",
    "    plt.ylim(0,2.1)\n",
    "    plt.xlim(0,1)\n",
    "    plt.ylabel(\"Temperature, Pressure\")\n",
    "    plt.xlabel(\"Density\")\n",
    "    plt.legend(loc=0)\n",
    "    plt.savefig(\"lammps_phases.png\")\n",
    "else:\n",
    "    print(\"No jobs finished yet\")"
   ]
  },
  {
   "cell_type": "markdown",
   "id": "b51c582e",
   "metadata": {},
   "source": [
    "# Job Dependencies and Multi-site workloads\n",
    "\n",
    "Now we will show how to create dependencies between jobs and how to deploy those jobs across multiple machines.  \n",
    "\n",
    "We have already run several Lammps jobs on Polaris.  We will now create a job that is dependent on the outcome of those jobs that will run on Cori, a machine at NERSC.  The dependent job will fit a spline curve to the data plotted in the last section. \n",
    "\n",
    "To create the spline fitting application on Cori we must first create and start a site on Cori at NERSC.  We won't demo this step live, but users can follow the same the steps that they followed to create a site on Polaris outlined at the top of this notebook.  \n",
    "\n",
    "We will introduce one difference in our Cori site, and that is we will activate elastic queuing in the site.  This is a mode where a site will automatically create batch jobs on the scheduler when the site has jobs ready to run.\n",
    "\n",
    "One note: we use the Job data field to communicate small amounts of data between sites.  For larger amounts of data between sites, jobs should use Globus for data transfers: https://balsam.readthedocs.io/en/latest/user-guide/transfer/.  The Balsam server is not suited to large data transfers.\n",
    "\n",
    "\n",
    "## Setup Elastic Queuing\n",
    "\n",
    "To set the site in elastic queuing mode, open the `settings.yml` file in the site directory.  You will find a commented out section for elastic queing.  Uncomment it, and change the parameter values so that it looks like this:\n",
    "\n",
    "```\n",
    "# Elastic Queue flexibly sizes and requests BatchJobs based on the net\n",
    "# job requirements \n",
    "# elastic_queue: null\n",
    "elastic_queue:\n",
    "     service_period: 60  # Calculate and submit 1 BatchJob per `service_period` seconds\n",
    "     submit_project: \"train7\"\n",
    "     submit_queue: \"debug\"\n",
    "     job_mode: \"mpi\"\n",
    "     use_backfill: False # Constrains BatchJobs to fit into idle backfill slots\n",
    "     min_wall_time_min: 10  # If `use_backfill`, ignore windows shorter than this duration\n",
    "     max_wall_time_min: 10 # If not `use_backfill`, submit BatchJobs for this walltime limit\n",
    "     wall_time_pad_min: 0 # Subtract this walltime duration from all submitted BatchJobs\n",
    "     min_num_nodes:  1 # Do not request fewer than this many nodes\n",
    "     max_num_nodes: 1 # Do not request more than this many nodes\n",
    "     max_queue_wait_time_min: 10 # Delete BatchJobs waiting in queue for this long\n",
    "     max_queued_jobs: 5 # Maximum number of simultaneously queued jobs\n",
    "\n",
    "```\n",
    "\n",
    "After you have changed the `settings.yml` file, run the command `balsam site sync` in the site directory to adopt these changes.\n"
   ]
  },
  {
   "cell_type": "markdown",
   "id": "99d05c9a",
   "metadata": {},
   "source": [
    "## Create the Application\n",
    "\n",
    "Next create the application.  This application will exist in the site `cori_tutorial` and will split a cubic spline function to a set of data points.  We use an alternative application type here, rather that `command_template`, the executable is expressed as a python function called `run`.  This type of application is convenient if your application is in python.  We also add a `preprocess` function, analogous to the `postprocess` function used in the `Lammps` application.  The `preprocess` function executes on the login node before the executable runs on the compute nodes.  In this application, the `preprocess` function gather's data from it parent jobs (which will be the `Lammps` jobs we have already run) and passes that data to the `FitSpline` job through its data field."
   ]
  },
  {
   "cell_type": "code",
   "execution_count": 6,
   "id": "64de665b",
   "metadata": {},
   "outputs": [],
   "source": [
    "site_name = \"cori_tutorial\"\n",
    "\n",
    "from balsam.api import ApplicationDefinition\n",
    "\n",
    "class FitSpline(ApplicationDefinition):\n",
    "\n",
    "    site = site_name\n",
    "    \n",
    "    def preprocess(self):\n",
    "        try:\n",
    "            parent_density = [ j.get_parameters()[\"lat_scale\"]\n",
    "                for j in self.job.parent_query()]\n",
    "            parent_tfinal = [ j.data[\"tfinal\"]\n",
    "                for j in self.job.parent_query()]\n",
    "            self.job.data={\"density\":parent_density, \"tfinal\":parent_tfinal}\n",
    "            self.job.state = \"PREPROCESSED\"\n",
    "        except:\n",
    "            self.job.state = \"FAILED\"\n",
    "        \n",
    "    \n",
    "    # This routine demonstrates an alternative way of defining an application.  This method, using the function run,\n",
    "    # wraps around python code. Instead of the command_template, the executable is `python run()`.  \n",
    "    # The function run will be run on the compute nodes just like command_template.\n",
    "    def run(self):\n",
    "        from scipy.interpolate import CubicSpline\n",
    "        import numpy as np\n",
    "        \n",
    "        isort = np.argsort(self.job.data[\"density\"])\n",
    "        x = np.array(self.job.data[\"density\"])[isort]\n",
    "        y = np.array(self.job.data[\"tfinal\"])[isort]\n",
    "        cs = CubicSpline(x,y) \n",
    "        \n",
    "        # Run applications can return objects that can be accessed later through the job instance.\n",
    "        return cs    \n",
    "\n",
    "FitSpline.sync()"
   ]
  },
  {
   "cell_type": "markdown",
   "id": "5f5f02bb",
   "metadata": {},
   "source": [
    "## Define a Job dependency\n",
    "\n",
    "We want the FitSpline job to use the data from the Lammps jobs and we only want it to execute after those jobs have successfully finished.  We introduce this dependency through the ``parent_ids`` keyword that makes this job dependent on it's parents.  Below ``lammps_job_ids`` contains the job ids of the `Lammps` application jobs we ran on Polaris.  "
   ]
  },
  {
   "cell_type": "code",
   "execution_count": 7,
   "id": "52970d7f",
   "metadata": {},
   "outputs": [],
   "source": [
    "lammps_job_ids = [job.id for job in jobs]\n",
    "fitting_job = FitSpline.submit(workdir=\"LJ/spline\", parent_ids=lammps_job_ids)"
   ]
  },
  {
   "cell_type": "markdown",
   "id": "7c5d538a",
   "metadata": {},
   "source": [
    "## Collect results from python application"
   ]
  },
  {
   "cell_type": "code",
   "execution_count": 8,
   "id": "65ce898c",
   "metadata": {},
   "outputs": [
    {
     "data": {
      "image/png": "[encoded data removed]",
      "text/plain": [
       "<Figure size 640x480 with 1 Axes>"
      ]
     },
     "metadata": {},
     "output_type": "display_data"
    }
   ],
   "source": [
    "if fitting_job.result():\n",
    "    cs = fitting_job.result()\n",
    "    plt.plot(density,tfinal,'o',label=\"Temperature\")\n",
    "    plt.plot(density,Pfinal,'s',label=\"Pressure\")\n",
    "    plt.plot(density, cs(density), label=\"Cubic Spline\",c=\"k\")\n",
    "    plt.ylim(0,2.1)\n",
    "    plt.xlim(0,1)\n",
    "    plt.ylabel(\"Temperature, Pressure\")\n",
    "    plt.xlabel(\"Density\")\n",
    "    plt.legend(loc=0)\n",
    "    plt.savefig(\"lammps_phases_fit.png\")"
   ]
  }
 ],
 "metadata": {
  "kernelspec": {
   "display_name": "Python 3 (ipykernel)",
   "language": "python",
   "name": "python3"
  },
  "language_info": {
   "codemirror_mode": {
    "name": "ipython",
    "version": 3
   },
   "file_extension": ".py",
   "mimetype": "text/x-python",
   "name": "python",
   "nbconvert_exporter": "python",
   "pygments_lexer": "ipython3",
   "version": "3.9.16"
  }
 },
 "nbformat": 4,
 "nbformat_minor": 5
}
