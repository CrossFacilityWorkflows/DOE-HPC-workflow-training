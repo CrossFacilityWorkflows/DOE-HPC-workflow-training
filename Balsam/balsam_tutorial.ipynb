{
 "cells": [
  {
   "cell_type": "markdown",
   "id": "67fcd7bd",
   "metadata": {},
   "source": [
    "# Balsam Tutorial\n",
    "----\n",
    "\n",
    "## Tutorial Setup\n",
    "\n",
    "Once you have setup your conda environment:\n",
    "```bash\n",
    "source setup.sh --site [local, ALCF, NERSC or OLCF]\n",
    "```\n",
    "\n",
    "Follow the tutorial via the markdown file or open the [notebook](balsam_tutorial.ipynb) at https://jupyter.nersc.gov/. You can also open the notebook on a local machine:\n",
    "\n",
    "```bash\n",
    "jupyter notebook\n",
    "```\n"
   ]
  },
  {
   "cell_type": "markdown",
   "id": "6583bb31-34ff-40ad-89ad-247803e68b14",
   "metadata": {},
   "source": [
    "---\n",
    "\n",
    "# Overview\n",
    "\n",
    "This tutorial will show you how to setup a Balsam site and run simulations via Balsam. For this tutorial we are using `LAMMPS`, a large scale classical molecular dynamics code that stands for Large-scale Atomic/Molecular Massively Parallel Simulator. \n",
    "\n",
    "# Setup Balsam site\n",
    "\n",
    "In terminal log into balsam and create your site in a folder of your choosing:\n",
    "```bash\n",
    "balsam login\n",
    "balsam site init -n <site-name> <site-folder>\n",
    "```\n",
    "\n",
    "Now start the site:\n",
    "```bash\n",
    "cd <site-folder>\n",
    "balsam site start\n",
    "cd ..\n",
    "```\n"
   ]
  },
  {
   "cell_type": "markdown",
   "id": "0f10a0c3-b3e2-40bf-a3c9-5c30bc34f259",
   "metadata": {},
   "source": [
    "# Create Balsam Application"
   ]
  },
  {
   "cell_type": "code",
   "execution_count": 2,
   "id": "b4d14223-55a2-4cc1-a5ef-1b542d16de70",
   "metadata": {},
   "outputs": [],
   "source": [
    "host_name = \"perlumtter\"\n",
    "site_name = f\"balsam_test_site_{host_name}\"\n"
   ]
  },
  {
   "cell_type": "code",
   "execution_count": 3,
   "id": "9b33d509-cba8-4dcc-940f-556ec373021f",
   "metadata": {},
   "outputs": [],
   "source": [
    "#Enter site name here\n",
    "balsam_site_name = site_name\n",
    "doe_site = 'NERSC'"
   ]
  },
  {
   "cell_type": "markdown",
   "id": "b028c153-e750-4b9e-ad3b-85c253318286",
   "metadata": {},
   "source": [
    "We create the application using:\n",
    "```shell\n",
    "python application.py <site-name> <doe-center> [optional GPU=False]\n",
    "```"
   ]
  },
  {
   "cell_type": "code",
   "execution_count": 5,
   "id": "4e375a09-ae37-42de-8226-cc27714b1773",
   "metadata": {},
   "outputs": [],
   "source": [
    "import os\n",
    "from balsam.api import ApplicationDefinition\n",
    "\n",
    "#Dict for any specific things to each machine\n",
    "machine = {\n",
    "    'ALCF': {'bin': 'lmp_polaris_nvhpc_kokkos'},\n",
    "    'NERSC': {'bin': 'lmp'},\n",
    "    'OLCF': {'bin': 'lmp_titan'}\n",
    "}\n",
    "GPU=True\n",
    "\n",
    "class Lammps(ApplicationDefinition):\n",
    "\n",
    "    site = balsam_site_name\n",
    "    script_dir = os.path.abspath(\"\")\n",
    "    environment_variables = {\"OMP_PROC_BIND\":\"spread\", \"OMP_PLACES\":\"cores\"}\n",
    "            \n",
    "    def shell_preamble(self):\n",
    "        return f'source {script_dir}/lammps_envs.sh --site {doe_site}'\n",
    "\n",
    "    command_template = f'{machine[doe_site][\"bin\"]} -in lj.in'\n",
    "    if GPU:\n",
    "        command_template += ' -k on g {{NGPUS}} -sf kk -pk kokkos neigh half neigh/qeq full newton on'\n",
    "    \n",
    "    # command_template += ' -var velocity 20' #self.job.data[\"velocity\"] #TO-DO vary the velocity with `-var`\n",
    "        \n",
    "    def postprocess(self):\n",
    "        try:\n",
    "            with open(\"energy.dat\",\"r\") as f:\n",
    "                for line in f:\n",
    "                    pass\n",
    "                line_entries = line.split()\n",
    "                if line_entries[0] == \"1000\":\n",
    "                    self.job.data[\"final_ke\"]=line_entries[1]\n",
    "                    self.job.data[\"final_pe\"]=line_entries[2]\n",
    "                    self.job.data[\"final_temp\"]=line_entries[3]\n",
    "                    self.job.state=\"POSTPROCESSED\"\n",
    "                else:\n",
    "                    self.job.state=\"FAILED\"\n",
    "        except:\n",
    "            self.job.state=\"FAILED\"\n",
    "\n",
    "Lammps.sync()"
   ]
  },
  {
   "cell_type": "markdown",
   "id": "0d9f7046-8b92-4200-a746-3fd25d9e57f9",
   "metadata": {
    "tags": []
   },
   "source": [
    "# Create Balsam Jobs\n",
    "\n",
    "Then we create the Balsam Jobs via this script:\n",
    "\n",
    "```python\n",
    "python define_jobs.py <site-name>\n",
    "```"
   ]
  },
  {
   "cell_type": "code",
   "execution_count": 9,
   "id": "252d67c2-f77d-4dcf-88ff-2888e5ea7510",
   "metadata": {},
   "outputs": [],
   "source": [
    "from balsam.api import Job\n",
    "import numpy as np\n",
    "\n",
    "n_gpus = 4 if GPU else 0\n",
    "\n",
    "velocities = np.arange(0.72,2.16,0.12)\n",
    "\n",
    "jobs = [Job(app_id=\"Lammps\",\n",
    "            site_name=balsam_site_name,\n",
    "            workdir=f\"LJ/{n}\",\n",
    "            parameters={\"NGPUS\": n_gpus},\n",
    "            data={\"velocity\":v},\n",
    "            num_nodes=1,\n",
    "            ranks_per_node=n_gpus,\n",
    "            gpus_per_rank=1,\n",
    "            threads_per_rank=8, #This sets OMP_NUM_THREADS\n",
    "            launch_params={\"cpu_bind\":\"depth\"},\n",
    "            tags={\"parameter_test\":\"velocity\"}\n",
    "        )\n",
    "        for n,v in enumerate(velocities)]\n",
    "\n",
    "jobs = Job.objects.bulk_create(jobs)"
   ]
  },
  {
   "cell_type": "markdown",
   "id": "360227ac-8530-4a1d-aa7d-357654a70dbe",
   "metadata": {},
   "source": [
    "# Submit Balsam Jobs\n",
    "\n",
    "Then we submit the Balsam jobs to our site via:\n",
    "\n",
    "```shell\n",
    "python submit_jobs.py <site-name> [optional GPU=True]\n",
    "```\n"
   ]
  },
  {
   "cell_type": "code",
   "execution_count": 13,
   "id": "9b290844-9dbd-4bdf-a88e-ec27e1d78727",
   "metadata": {},
   "outputs": [
    {
     "data": {
      "text/plain": [
       "BatchJob(num_nodes=1, wall_time_min=30, job_mode=mpi, optional_params={}, filter_tags={}, partitions=None, id=11833, site_id=481, scheduler_id=None, project=nstaff, queue=debug, state=pending_submission, status_info={}, start_time=None, end_time=None)"
      ]
     },
     "execution_count": 13,
     "metadata": {},
     "output_type": "execute_result"
    }
   ],
   "source": [
    "from balsam.api import BatchJob, Site\n",
    "\n",
    "site_name = balsam_site_name\n",
    "site = Site.objects.get(site_name)\n",
    "\n",
    "BatchJob.objects.create(\n",
    "    site_id=site.id,\n",
    "    num_nodes=1,\n",
    "    wall_time_min=30,\n",
    "    job_mode=\"mpi\",\n",
    "    project=\"nstaff\",\n",
    "    queue=\"debug\",\n",
    ")"
   ]
  },
  {
   "cell_type": "code",
   "execution_count": null,
   "id": "ff0535af-fbe9-4bff-b2bf-17df636a26c7",
   "metadata": {},
   "outputs": [],
   "source": [
    "for job in Job.objects.as_completed(jobs):\n",
    "    print(job.workdir, job.result())\n"
   ]
  }
 ],
 "metadata": {
  "kernelspec": {
   "display_name": "balsam",
   "language": "python",
   "name": "balsam"
  },
  "language_info": {
   "codemirror_mode": {
    "name": "ipython",
    "version": 3
   },
   "file_extension": ".py",
   "mimetype": "text/x-python",
   "name": "python",
   "nbconvert_exporter": "python",
   "pygments_lexer": "ipython3",
   "version": "3.9.16"
  }
 },
 "nbformat": 4,
 "nbformat_minor": 5
}
