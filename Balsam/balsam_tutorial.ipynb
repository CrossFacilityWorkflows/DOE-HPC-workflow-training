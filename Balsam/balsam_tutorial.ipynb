{
 "cells": [
  {
   "cell_type": "markdown",
   "id": "67fcd7bd",
   "metadata": {},
   "source": [
    "# Balsam Tutorial\n",
    "----\n",
    "\n",
    "## Setup\n",
    "\n",
    "Once you have setup your conda environment:\n",
    "```bash\n",
    "source setup.sh --site [local, ALCF, NERSC or OLCF]\n",
    "```\n",
    "\n",
    "Head to JupyterHub instance and chose the `balsam` Python kernel:\n",
    "| Site | URL |\n",
    "| :--- | ---: |\n",
    "| ALCF | https://jupyter.alcf.anl.gov/  |\n",
    "| NERSC | https://jupyter.nersc.gov/  |\n",
    "| OLCF | https://jupyter.olcf.ornl.gov/ |\n",
    "\n",
    "You can also follow the instructions below to open jupyter locally:\n",
    "\n",
    "```bash\n",
    "jupyter notebook\n",
    "```\n",
    "\n",
    "## Overview\n",
    "\n",
    "This tutorial will cover how to create and use a balsam site.\n",
    "\n"
   ]
  },
  {
   "cell_type": "markdown",
   "id": "6583bb31-34ff-40ad-89ad-247803e68b14",
   "metadata": {},
   "source": [
    "## Setup Balsam site\n",
    "\n",
    "In terminal log into balsam and create your site in a folder of your choosing:\n",
    "```bash\n",
    "balsam login\n",
    "balsam site init -n <site-name> <site-folder>\n",
    "```\n",
    "\n",
    "Now start the site:\n",
    "```bash\n",
    "cd <site-folder>\n",
    "balsam site start\n",
    "cd ..\n",
    "```\n"
   ]
  },
  {
   "cell_type": "markdown",
   "id": "e2f1d789-fb03-4fca-a37b-e48feb35ca47",
   "metadata": {},
   "source": [
    "## Differences about the sites:\n",
    "\n",
    "<details closed>\n",
    "<summary>ALCF</summary>\n",
    "<div>\n",
    "    \n",
    "```bash\n",
    "module load conda\n",
    "```\n",
    "    \n",
    "</div>\n",
    "</details>\n",
    "<br>\n",
    "\n",
    "<details closed>\n",
    "<summary>NERSC</summary>\n",
    "<div>\n",
    "    \n",
    "```bash\n",
    "module load python\n",
    "```\n",
    "    \n",
    "</div>\n",
    "</details>\n",
    "<br>\n",
    "\n",
    "<details closed>\n",
    "<summary>OLCF</summary>\n",
    "<div>\n",
    "    \n",
    "```bash\n",
    "module load python\n",
    "```\n",
    "    \n",
    "</div>\n",
    "</details>"
   ]
  },
  {
   "cell_type": "code",
   "execution_count": null,
   "id": "db8f6df6-fb52-4cd4-89c5-235c14d1a1fe",
   "metadata": {},
   "outputs": [],
   "source": []
  },
  {
   "cell_type": "code",
   "execution_count": null,
   "id": "53bea5ba-c03d-47d2-9d06-9f76b0b29f0a",
   "metadata": {},
   "outputs": [],
   "source": []
  },
  {
   "cell_type": "markdown",
   "id": "a2d7848d-64cd-49a9-bcbe-14f7370a31df",
   "metadata": {},
   "source": []
  },
  {
   "cell_type": "code",
   "execution_count": null,
   "id": "6f9e1454-e37c-4bcc-8eb7-1a7e36f21687",
   "metadata": {},
   "outputs": [],
   "source": []
  }
 ],
 "metadata": {
  "kernelspec": {
   "display_name": "balsam",
   "language": "python",
   "name": "balsam"
  },
  "language_info": {
   "codemirror_mode": {
    "name": "ipython",
    "version": 3
   },
   "file_extension": ".py",
   "mimetype": "text/x-python",
   "name": "python",
   "nbconvert_exporter": "python",
   "pygments_lexer": "ipython3",
   "version": "3.9.7"
  }
 },
 "nbformat": 4,
 "nbformat_minor": 5
}
